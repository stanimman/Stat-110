{
  "nbformat": 4,
  "nbformat_minor": 0,
  "metadata": {
    "colab": {
      "name": "Hello, Colaboratory",
      "version": "0.3.2",
      "provenance": [],
      "collapsed_sections": [],
      "include_colab_link": true
    },
    "kernelspec": {
      "display_name": "Python 3",
      "name": "python3"
    }
  },
  "cells": [
    {
      "cell_type": "markdown",
      "metadata": {
        "id": "view-in-github",
        "colab_type": "text"
      },
      "source": [
        "<a href=\"https://colab.research.google.com/github/stanimman/Stat-110/blob/master/Lecture%203.ipynb\" target=\"_parent\"><img src=\"https://colab.research.google.com/assets/colab-badge.svg\" alt=\"Open In Colab\"/></a>"
      ]
    },
    {
      "metadata": {
        "colab_type": "text",
        "id": "9wi5kfGdhK0R"
      },
      "cell_type": "markdown",
      "source": [
        "## Stat 110 - Lecture 3"
      ]
    },
    {
      "metadata": {
        "id": "pDwAeZoeLcDM",
        "colab_type": "text"
      },
      "cell_type": "markdown",
      "source": [
        "## Inclusion & Exclusion properties\n",
        "\n",
        "This property gives a formula to calculate $P(A \\cup B \\cup C) $ and the more general form $ P(A_1 \\cup A_2 \\cup \\cdots \\cup A_n) $. It can be better illustrated using Venn diagram.\n",
        "\n",
        "Considering the 3-event case, we have:\n",
        "\n",
        " $$\\begin{align}\n",
        "    P(A \\cup B \\cup C) &= P(A) + P(B) + P(C) - P(A \\cap B) - P(B \\cap C) - P(A \\cap C) + P(A \\cap B \\cap C)\n",
        "\\end{align}$$\n",
        "\n",
        "For the general case, we have:\n",
        "\n",
        " $$\\begin{align}\n",
        "    P(A_1 \\cup A_2 \\cup \\cdots\\cup A_n) &= \\sum_{j=1}^n P(A_{j}) - \\sum_{i<j} P(A_i \\cap A_j) + \\sum_{i<j<k} P(A_i \\cap A_j \\cap A_k) \\cdots + (-1)^{n-1} P(A_1 \\cap A_2 \\cap \\cdots \\cap A_n)\n",
        "\\end{align}$$\n",
        "\n",
        "\n",
        "... where we\n",
        "\n",
        "The general formula  -Derived from the 3 event case , things to note \n",
        "  1. Sign changes alternatively , the last term sign is  $(-1)^{n-1}$\n",
        "  \n",
        "\n",
        "\n"
      ]
    },
    {
      "metadata": {
        "id": "g7r4DVM4LrUv",
        "colab_type": "text"
      },
      "cell_type": "markdown",
      "source": [
        "## De Montmort's problem :\n",
        "**Based on inclusion / exclusion principle**\n",
        " \n",
        "We have a deck of shuffled $n$ cards, labeled 1 through $n$.  The cards are then flipped over, one at a time. A win is when the card labeled $k$ is the $k^{th}$ card flipped.\n",
        "\n",
        "So we will win if it matches atleast once (this is the case for $P(A_1 \\cup A_2 \\cup \\cdots A_k)$)\n",
        "\n",
        "So will find each term seperatly first and then add.\n",
        "\n",
        "$1^{st}$ term in the expression $P(A_1)$ - Probability of getting 1 while in the first flip is $(1/n)$ , since there is only one possible way out of n choices. \n",
        "\n",
        "There are n different number to choose from Therefore \n",
        "\n",
        "$$\\sum_{j=1}^n P(A_{j})  = \\binom{n}{1}\\frac{1}{n}$$\n",
        "\n",
        "\n",
        "$2^{nd}$ term in the expression $P(A_1 \\cap A_2)$ - Assume we have 5 flip instead of k, Now the denominator/number of different ways to choose 5 cards will be  $5!$  (since order matters). Now we have one ways to choose 1 in 1st flip and 2 in 2nd flip but $(5-2)!$ choices in the other flips.\n",
        "\n",
        "$$P(A_1 \\cap A_2) = \\frac{(n-2)!}{n!}     = \\frac{1}{n(n-1)}   \\\\$$\n",
        "\n",
        "Now it can be any of the 2 different combination can be choosen among the n cards  $\\binom{n}{2}$ (order don't matter) ,  Finally we have \n",
        "\n",
        "$$\\sum_{i<j} P(A_i \\cap A_j) = \\binom{n}{2}\\frac{1}{n(n-1)}$$\n",
        "\n",
        "By Symmetry we can extrpolate for other terms in the wquation as follows \n",
        "\n",
        "$$\\begin{align}\n",
        "    P(A_1 \\cup A_2 \\cup \\cdots \\cup A_k) &= \\binom{n}{1}\\frac{1}{n} - \\binom{n}{2}\\frac{1}{n(n-1)} + \\binom{n}{3}\\frac{1}{n(n-1)(n-2)} - \\cdots \\\\\\\\\n",
        "    &=  n \\frac{1}{n} - \\left(\\frac{n(n-1)}{2!}\\right)\\frac{1}{n(n-1)} + \\left(\\frac{n(n-1)(n-2)}{3!}\\right)\\frac{1}{n(n-1)(n-2)} - \\cdots \\\\\\\\\n",
        "   &= 1 - \\frac{1}{2!} + \\frac{1}{3!} - \\frac{1}{4!} \\cdots (-1)^{n-1}\\frac{1}{n!} \\\\\\\\\n",
        "    &= 1 - \\sum_{k=1}^{\\infty} \\frac{(-1)^{k-1}}{k!} \\\\\\\\\n",
        "    &= 1 - \\frac{1}{e} \\\\\\\\\n",
        "    \\\\\\\\\n",
        "    \\text{ since } e^{-1} &= \\frac{(-1)^0}{0!} + \\frac{-1}{1!} + \\frac{(-1)^2}{2!} + \\frac{(-1)^3}{3!} + \\cdots + \\frac{(-1)^n}{n!} ~~~~ \\text{ from the Taylor expansion of } e^{x}\n",
        "\\end{align}$$\n",
        "\n",
        "\n",
        "\n",
        "\n",
        "\n"
      ]
    },
    {
      "metadata": {
        "id": "w8IBCcBKA3sO",
        "colab_type": "code",
        "colab": {}
      },
      "cell_type": "code",
      "source": [
        ""
      ],
      "execution_count": 0,
      "outputs": []
    }
  ]
}
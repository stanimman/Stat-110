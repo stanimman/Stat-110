{
  "nbformat": 4,
  "nbformat_minor": 0,
  "metadata": {
    "colab": {
      "name": "Hello, Colaboratory",
      "version": "0.3.2",
      "provenance": [],
      "collapsed_sections": [],
      "include_colab_link": true
    },
    "kernelspec": {
      "display_name": "Python 3",
      "name": "python3"
    }
  },
  "cells": [
    {
      "cell_type": "markdown",
      "metadata": {
        "id": "view-in-github",
        "colab_type": "text"
      },
      "source": [
        "<a href=\"https://colab.research.google.com/github/stanimman/Stat-110/blob/master/Lecture%203.ipynb\" target=\"_parent\"><img src=\"https://colab.research.google.com/assets/colab-badge.svg\" alt=\"Open In Colab\"/></a>"
      ]
    },
    {
      "metadata": {
        "colab_type": "text",
        "id": "9wi5kfGdhK0R"
      },
      "cell_type": "markdown",
      "source": [
        "## Stat 110 - Lecture 3"
      ]
    },
    {
      "metadata": {
        "colab_type": "text",
        "id": "S9GW-n-oYWIj"
      },
      "cell_type": "markdown",
      "source": [
        "## Probability Naive defn :\n",
        "\n",
        "---\n",
        "\n",
        "**Sample space** : A sample space is set of all possible outcome of an experiment \n",
        "\n",
        "**Event** : An event is the subset of the sample space.\n",
        "\n",
        "**Naive Defn of probability** = # of favaourable outcome / # of possible outcome \n",
        "\n",
        "  Assumes - all outcomes is equally likely (strong assumption) and shd have finite number of possibility"
      ]
    },
    {
      "metadata": {
        "id": "bplDmGYGHdoZ",
        "colab_type": "text"
      },
      "cell_type": "markdown",
      "source": [
        "## Counting - Basics\n",
        "\n",
        "---\n",
        "\n",
        "Need to be good with counting to compute the numerator and denominator for the naive defn \n",
        "\n",
        "**Multiplication Rule :** If we have experiment with n1 possible outcome and for  each outocme of the 1st experiment there are n2 outcomes for 2nd experiment., similiarly ... lets do 'r' experiment and for each 'r' experiment  there nr possible outcome then the conclusion is there are\n",
        "\n",
        "&nbsp; &nbsp; &nbsp; &nbsp; &nbsp; &nbsp;&nbsp; n<sub>1</sub> . n<sub>2</sub> . n<sub>3</sub> ... n<sub>r</sub> over all possible outcome \n",
        "\n"
      ]
    },
    {
      "metadata": {
        "id": "pDwAeZoeLcDM",
        "colab_type": "text"
      },
      "cell_type": "markdown",
      "source": [
        "## Inclusion & Exclusion properties\n",
        "\n",
        "This property gives a formula to calculate $P(A \\cup B \\cup C) $ and the more general form $ P(A_1 \\cup A_2 \\cup \\cdots \\cup A_n) $. It can be better illustrated using Venn diagram.\n",
        "\n",
        "Considering the 3-event case, we have:\n",
        "\n",
        " $$\\begin{align}\n",
        "    P(A \\cup B \\cup C) &= P(A) + P(B) + P(C) - P(A \\cap B) - P(B \\cap C) - P(A \\cap C) + P(A \\cap B \\cap C)\n",
        "\\end{align}$$\n",
        "\n",
        "For the general case, we have:\n",
        "\n",
        " $$\\begin{align}\n",
        "    P(A_1 \\cup A_2 \\cup \\cdots\\cup A_n) &= \\sum_{j=1}^n P(A_{j}) - \\sum_{i<j} P(A_i \\cap A_j) + \\sum_{i<j<k} P(A_i \\cap A_j \\cap A_k) \\cdots + (-1)^{n-1} P(A_1 \\cap A_2 \\cap \\cdots \\cap A_n)\n",
        "\\end{align}$$\n",
        "\n",
        "\n",
        "... where we\n",
        "\n",
        "The general formula  -Derived from the 3 event case , things to note \n",
        "  1. Sign changes alternatively , the last term sign is  $(-1)^{n-1}$\n",
        "  \n",
        "\n",
        "\n"
      ]
    },
    {
      "metadata": {
        "id": "g7r4DVM4LrUv",
        "colab_type": "text"
      },
      "cell_type": "markdown",
      "source": [
        "## De Montmort's problem :\n",
        "  - based on inclusion / exclusion principle\n",
        " \n",
        "We have a deck of shuffled $n$ cards, labeled 1 through $n$.  The cards are then flipped over, one at a time. A win is when the card labeled $k$ is the $k^{th}$ card flipped.\n",
        "\n",
        "So we will win if it matches atleast once (this is the case for $P(A_1 \\cup A_2 \\cup \\cdots A_k)$)\n",
        "\n",
        "So will find each term seperatly first and then add.\n",
        "\n",
        "$1^{st}$ term in the expression $P(A_1)$ - Probability of getting 1 while in the first flip is $(1/n)$ , since there is only one possible way out of n choices. \n",
        "\n",
        "There are n different number to choose from There fore \n",
        "\n",
        "$2^{nd}$ term in the expression $P(A_1 \\cap A_2)$ - Assume we have 5 flip instead of k, Now the denominator/number of different ways to choose 5 cards will be  $5!$  (since order matters). Now we have one ways to choose 1 in 1st flip and 2 in 2nd flip but $(5-2)!$ choices in the other flips.\n",
        "\n",
        "Now we have \n",
        "\n"
      ]
    },
    {
      "metadata": {
        "id": "awxLZyu_NHV3",
        "colab_type": "text"
      },
      "cell_type": "markdown",
      "source": [
        "## Poker with Full House - Example\n",
        "\n",
        "---\n",
        "\n",
        "Full house - 3 cards are same / 2 cards are same .Think it through tree. \n",
        "\n",
        "start with concrete example : 3 - 7's and 2 - 10's (Assume in order to get 3 sevens and 2 tens , what would be probability)\n",
        "\n",
        "**Numerator**\n",
        "\n",
        "&nbsp;&nbsp;&nbsp;First 3 - 7's\n",
        "\n",
        "&nbsp;&nbsp;&nbsp;&nbsp;&nbsp;&nbsp;&nbsp; So in numerator it could be any of the 13 choices instead of 7 , and among the 13 possible choice we have 4 cards and we need to choose 3 cards \n",
        "\n",
        "&nbsp;&nbsp;&nbsp;&nbsp;&nbsp;&nbsp;&nbsp;There fore it is **13 * 4C3**\n",
        "\n",
        "\n",
        "&nbsp;&nbsp;&nbsp;&nbsp;Now 2 - 10's \n",
        "\n",
        "&nbsp;&nbsp;&nbsp;&nbsp;&nbsp;&nbsp;&nbsp; We have already chosen one cards so 12 choice available and among the 12 possible choice we have 4 cards which are same and we need to choose 2 cards \n",
        "from 12 available cards\n",
        "\n",
        "&nbsp;&nbsp;&nbsp;&nbsp;&nbsp;&nbsp;&nbsp;There fore **12 * 4C2**\n",
        "\n",
        "In this case order doesn't matter\n",
        "\n",
        "**Denominator **: 52C5"
      ]
    },
    {
      "metadata": {
        "id": "LNuJU-O0N4bY",
        "colab_type": "text"
      },
      "cell_type": "markdown",
      "source": [
        "## Sampling Table \n",
        "\n",
        "---\n",
        "\n"
      ]
    }
  ]
}
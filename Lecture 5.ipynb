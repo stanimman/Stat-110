{
  "nbformat": 4,
  "nbformat_minor": 0,
  "metadata": {
    "colab": {
      "name": "Hello, Colaboratory",
      "version": "0.3.2",
      "provenance": [],
      "collapsed_sections": [],
      "include_colab_link": true
    },
    "kernelspec": {
      "display_name": "Python 3",
      "name": "python3"
    }
  },
  "cells": [
    {
      "cell_type": "markdown",
      "metadata": {
        "id": "view-in-github",
        "colab_type": "text"
      },
      "source": [
        "<a href=\"https://colab.research.google.com/github/stanimman/Stat-110/blob/master/Lecture%205.ipynb\" target=\"_parent\"><img src=\"https://colab.research.google.com/assets/colab-badge.svg\" alt=\"Open In Colab\"/></a>"
      ]
    },
    {
      "metadata": {
        "colab_type": "text",
        "id": "9wi5kfGdhK0R"
      },
      "cell_type": "markdown",
      "source": [
        "## Stat 110 - Lecture 5"
      ]
    },
    {
      "metadata": {
        "id": "pDwAeZoeLcDM",
        "colab_type": "text"
      },
      "cell_type": "markdown",
      "source": [
        "## Law of Total Probability\n",
        "\n",
        "In many case the complex problems(irregular shape) can be solved using breaking the problem into little chunk\n",
        "{Insert a dig}\n",
        "\n",
        "Law of  Total probability give us a way to calculate the total probability from the little chunks we get \n",
        "\n",
        "$$P(B) = P(A_1 \\cap B) + P(A_2 \\cap B) + P(A_3 \\cap B) +P(A_4 \\cap B)$$ \n",
        "\n",
        "$$P(B) = P(B/A_1).P(A_1) + P(B/A_2).P(A_2) + P(B/A_3).P(A_3) + P(B/A_4).P(A_4)$$ \n",
        "\n",
        "$$ P(A/B) = P(A \\cap B ) / P(B )  (Bayes Rule)$$\n",
        "\n",
        "\\\n",
        "\n",
        "###Some example on conditinal probability \n",
        "\n",
        "**1. Find probabilty of picking two A's given atleast one card is an A **\n",
        "\n",
        "P(Both cards are aces / atleast one card is an ace) = P(Both card are aces $\\cap$ atleast one card is an ace) / P(atleast one card is an ace) \n",
        "\t\t\t\t\t\t\t\t\t\t\t\t\t$$= P(Both \\ cards \\ are \\ aces) / P(1 - No \\ ace \\ card) $$\n",
        "\t\t\t\t\t\t\t\t\t\t\t\t\t$$= (4C_2 / 52C_2) / (1 - 48C_2) / 52C_2$$\n",
        "                          \\\n",
        "\n",
        "**2. Find probabilty of picking two A's given we have  one card is Spade of A card  **\n",
        "\n",
        "P(Both cards are aces / one card is spade ace)  - Since we know one is Ace of spade we have got choice to pick any 3 A's out of the available 51 remaining card \n",
        "\n",
        "There fore  probaility is $$  = 3/51$$\n",
        "\n",
        "The above example demonstrate the fact the more accurate the we information we have in hand the higher the probaility of that case.\n",
        "\n",
        "\n"
      ]
    },
    {
      "metadata": {
        "id": "g7r4DVM4LrUv",
        "colab_type": "text"
      },
      "cell_type": "markdown",
      "source": [
        "## Disease - Test Accuracy Problem\n",
        "**Based on bayes rule and  law of Total probability **\n",
        " \n",
        "There is a rare disease in the town which affects 1% of the population. A test can identify the disease with 95% accuracy. If a person is tested positive for the disease , What is the probability of that person being affected by the disease.\n",
        "\n",
        "Lets denote things with notation \n",
        "\n",
        "Probability of Disease is , $$P (D) = 0.1$$\n",
        "Probability of Test being accurate for both positive / negative case  is , $$P (T/D) = 0.95 = P(T^c/D^c)$$\n",
        "To Find Probabilty of a person having disease after having tested positive $$P(D/T)  \\ ?  $$\n",
        "According to Bayes rule $$ P(D/T) = P(D \\cap T) / P(T) $$\n",
        "\n",
        "**Numerator ** \\\n",
        "We also know $$P(T/D)  *   P(D) = P(D \\cap T)  = 0.95 * 0.01 $$\n",
        "\n",
        "**Denominator ** \\\n",
        "Law of Total probability  $$P(T)  =   P(D \\cap T)+  P(D^c \\cap T)  $$\n",
        "  $$ P(T) =   P(T/D)  *   P(D) +  P(T/D^c)  *   P(D^c)  $$\n",
        "\n",
        "$$ P(D^c) = 1 - P(D) =  1 - .01 = .99 $$\n",
        "\n",
        "$$ P(T/ D^c) = .05 $$\n",
        "\n",
        "**Answer** = 0.95 * 0.01 / ((0.95 * .01)+(.05*.99)) = 0.16\n",
        "\n",
        "\n",
        "\n",
        "\n"
      ]
    },
    {
      "metadata": {
        "id": "JOZmknyIa48R",
        "colab_type": "code",
        "colab": {}
      },
      "cell_type": "code",
      "source": [
        ""
      ],
      "execution_count": 0,
      "outputs": []
    }
  ]
}
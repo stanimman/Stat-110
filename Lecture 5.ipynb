{
  "nbformat": 4,
  "nbformat_minor": 0,
  "metadata": {
    "colab": {
      "name": "Hello, Colaboratory",
      "version": "0.3.2",
      "provenance": [],
      "collapsed_sections": [],
      "include_colab_link": true
    },
    "kernelspec": {
      "display_name": "Python 3",
      "name": "python3"
    }
  },
  "cells": [
    {
      "cell_type": "markdown",
      "metadata": {
        "id": "view-in-github",
        "colab_type": "text"
      },
      "source": [
        "<a href=\"https://colab.research.google.com/github/stanimman/Stat-110/blob/master/Lecture%205.ipynb\" target=\"_parent\"><img src=\"https://colab.research.google.com/assets/colab-badge.svg\" alt=\"Open In Colab\"/></a>"
      ]
    },
    {
      "metadata": {
        "colab_type": "text",
        "id": "9wi5kfGdhK0R"
      },
      "cell_type": "markdown",
      "source": [
        "## Stat 110 - Lecture 5"
      ]
    },
    {
      "metadata": {
        "id": "pDwAeZoeLcDM",
        "colab_type": "text"
      },
      "cell_type": "markdown",
      "source": [
        "## Law of Total Probability\n",
        "\n",
        "In many case the complex problems(irregular shape) can be solved using breaking the problem into little chunk\n",
        "{Insert a dig}\n",
        "\n",
        "Law of  Total probability give us a way to calculate the total probability from the little chunks we get \n",
        "\n",
        "$$P(B) = P(A_1 \\cap B) + P(A_2 \\cap B) + P(A_3 \\cap B) +P(A_4 \\cap B)$$ \n",
        "\n",
        "$$P(B) = P(B/A_1).P(A_1) + P(B/A_2).P(A_2) + P(B/A_3).P(A_3) + P(B/A_4).P(A_4)$$ \n",
        "\n",
        "$$ P(A/B) = P(A \\cap B ) / P(B )  (Bayes Rule)$$\n",
        "\n",
        "\\\n",
        "\n",
        "###Some example on conditinal probability \n",
        "\n",
        "**1. Find probabilty of picking two A's given atleast one card is an A **\n",
        "\n",
        "P(Both cards are aces / atleast one card is an ace) = P(Both card are aces $\\cap$ atleast one card is an ace) / P(atleast one card is an ace) \n",
        "\t\t\t\t\t\t\t\t\t\t\t\t\t$$= P(Both \\ cards \\ are \\ aces) / P(1 - No \\ ace \\ card) $$\n",
        "\t\t\t\t\t\t\t\t\t\t\t\t\t$$= (4C_2 / 52C_2) / (1 - 48C_2) / 52C_2$$\n",
        "                          \\\n",
        "\n",
        "**2. Find probabilty of picking two A's given we have  one card is Spade of A card  **\n",
        "\n",
        "P(Both cards are aces / one card is spade ace)  - Since we know one is Ace of spade we have got choice to pick any 3 A's out of the available 51 remaining card \n",
        "\n",
        "There fore  probaility is $$  = 3/51$$\n",
        "\n",
        "The above example demonstrate the fact the more accurate the we information we have in hand the higher the probaility of that case.\n",
        "\n",
        "\n"
      ]
    },
    {
      "metadata": {
        "id": "g7r4DVM4LrUv",
        "colab_type": "text"
      },
      "cell_type": "markdown",
      "source": [
        "## Newton - Pepys problem  problem :\n",
        "**Based on indepedence principle**\n",
        " \n",
        "We have **fair dice**. Which events is highly  likely?\n",
        "\n",
        "A ... at least one 6 with 6 roll \\\n",
        "B ... at least two 6's with 12 roll \\\n",
        "C ... at least three 6's with 18 roll\n",
        "\n",
        "**Case A - 6 Roll **\n",
        "\n",
        "It is difficult to calculate atleast one 6 (**remember union when you see atleast**)directly (need look one 6 , two 6 ,three 6 etc., ) so we will calculate no six and then take the complement \n",
        "\n",
        "$$P(Atleast \\: one \\: 6) = 1 - P(no \\: 6) $$\n",
        "\n",
        "$P(no \\: 6 )$ = $5 / 6 $ chance in each roll , there fore $(5/6)^{6}$ - Here we are raising it to power 6 because of independence :) \n",
        "\n",
        "$$P(Atleast \\: one \\: 6) = 1 - (5/6)^{6} $$\n",
        "\n",
        "\n",
        "**Case B - 12 Roll **\n",
        "\n",
        "$$P(Atleast \\: two \\: 6) = 1 - P(no \\:\\: 6) - P(exactly \\:\\: one \\:\\: 6) $$\n",
        "\n",
        "$P(no \\: 6 )$ = $5 / 6 $ chance in each roll , there fore $(5/6)^{12}$\\\n",
        "\n",
        "\n",
        "$P(exactly \\:\\: one \\:\\: 6) $ = Get $6$ in the  $1st$  roll and non $6$ in other 11 roll , by independence it will $P(prob  \\:\\:of  \\:\\:6).P(prob  \\:\\:of  \\:\\:non  \\:\\:6 )^{11}$ =  $(1/6).(5/6)^{11}$ . Now the one could be in any of the twelve 12 so the final answer would be \n",
        "\n",
        "$P(exactly \\:\\: one \\:\\: 6) $ = $12. (1/6).(5/6)^{11}$ \n",
        "\n",
        "\n",
        "\n",
        "$$P(Atleast \\: two \\: 6) = 1 -  (5/6)^{12} - 12. (1/6).(5/6)^{11} $$\n",
        "\n",
        "**Case C - 18 Roll **\n",
        "\n",
        "$$P(Atleast \\: three \\: 6) = 1 - P(no \\:\\: 6) - P(exactly \\:\\: one \\:\\: 6)  - P(exactly \\:\\: two \\:\\: 6) $$\n",
        "\n",
        "\n",
        "$P(no \\: 6 )$ = $5 / 6 $ chance in each roll , there fore $(5/6)^{18}$\n",
        "\n",
        "\n",
        "$P(exactly \\:\\: one \\:\\: 6) $ = Get $6$ in the  $1st$  roll and non $6$ in other 11 roll , by independence it will $P(prob  \\:\\:of  \\:\\:6).P(prob  \\:\\:of  \\:\\:non  \\:\\:6 )^{11}$ =  $(1/6).(5/6)^{17}$ . Now the one could be in any of the twelve 12 so the final answer would be \n",
        "\n",
        "$P(exactly \\:\\: one \\:\\: 6) $ = $18. (1/6).(5/6)^{17}$\n",
        "\n",
        "$P(exactly \\:\\: two \\:\\: 6) $ = Get $6$ in the  $1st \\:\\: and \\:\\: 2 $  roll and non $6$ in other 11 roll , by independence it will $P(prob  \\:\\:of  \\:\\:6).P(prob  \\:\\:of  \\:\\:6). P(prob  \\:\\:of  \\:\\:non  \\:\\:6 )^{16}$ =  $(1/6).(5/6)^{17}$ . Now the one could be in any of the two roll instead of 1st and 2 roll,  so the final answer would be \n",
        "\n",
        "$P(exactly \\:\\: two \\:\\: 6) $ = $18C2. (1/6).(1/6).(5/6)^{16}$\n",
        "\n",
        "\n",
        "$$P(Atleast \\: three \\: 6) = 1 -  (5/6)^{18} - 12. (1/6).(5/6)^{17}  - 18C2. (1/6).(1/6).(5/6)^{16}$$\n",
        "\n",
        "\n",
        "\n",
        "\n"
      ]
    },
    {
      "metadata": {
        "id": "tzFn6D7zgpjT",
        "colab_type": "text"
      },
      "cell_type": "markdown",
      "source": [
        "## Binomial Probability \n",
        "\n",
        "The natural extension of the above scenrio for general case will be the binomial probability \n",
        "\n",
        "$$ P(A) =  {{n}\\choose{k}} \\cdot p^kq^{n-k}$$\n"
      ]
    },
    {
      "metadata": {
        "id": "JOZmknyIa48R",
        "colab_type": "code",
        "colab": {}
      },
      "cell_type": "code",
      "source": [
        ""
      ],
      "execution_count": 0,
      "outputs": []
    }
  ]
}